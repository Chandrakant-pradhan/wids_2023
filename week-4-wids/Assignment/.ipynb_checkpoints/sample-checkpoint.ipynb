{
 "cells": [
  {
   "cell_type": "code",
   "execution_count": 4,
   "id": "dc7e2a04",
   "metadata": {},
   "outputs": [],
   "source": [
    "import gymnasium as gym\n",
    "import random"
   ]
  },
  {
   "cell_type": "code",
   "execution_count": 11,
   "id": "938b8295",
   "metadata": {},
   "outputs": [],
   "source": [
    "env = gym.make('CartPole-v1')"
   ]
  },
  {
   "cell_type": "code",
   "execution_count": 16,
   "id": "b70135cb",
   "metadata": {},
   "outputs": [],
   "source": [
    "def random():\n",
    "    # Assuming 'env' is initialized somewhere before this function is called\n",
    "    \n",
    "    for episode in range(10):  # Run for 10 episodes\n",
    "        state = env.reset()   # Reset the environment for a new episode\n",
    "        for timestep in range(500):  # Run for a maximum of 500 timesteps\n",
    "            env.render()  # Display/render the environment\n",
    "            \n",
    "            action = env.action_space.sample()  # Choose a random action\n",
    "            next_state, reward, done, info = env.step(action)  # Take a step using the random action\n",
    "            \n",
    "            print(f\"Episode: {episode + 1}, Step: {timestep + 1}\")\n",
    "            print(f\"Next state: {next_state}, Reward: {reward}, Done: {done}, Info: {info}, Action: {action}\")\n",
    "            \n",
    "            if done:\n",
    "                break  # Break if the episode is finished (agent reached terminal state)\n",
    "\n",
    "                \n"
   ]
  },
  {
   "cell_type": "code",
   "execution_count": 17,
   "id": "103ddd2d",
   "metadata": {},
   "outputs": [
    {
     "name": "stderr",
     "output_type": "stream",
     "text": [
      "C:\\Users\\CHANDRAKANT\\AppData\\Roaming\\Python\\Python311\\site-packages\\gymnasium\\envs\\classic_control\\cartpole.py:179: UserWarning: \u001b[33mWARN: You are calling 'step()' even though this environment has already returned terminated = True. You should always call 'reset()' once you receive 'terminated = True' -- any further steps are undefined behavior.\u001b[0m\n",
      "  logger.warn(\n"
     ]
    }
   ],
   "source": [
    "random()"
   ]
  },
  {
   "cell_type": "code",
   "execution_count": null,
   "id": "bdf0a15c",
   "metadata": {},
   "outputs": [],
   "source": []
  }
 ],
 "metadata": {
  "kernelspec": {
   "display_name": "Python 3 (ipykernel)",
   "language": "python",
   "name": "python3"
  },
  "language_info": {
   "codemirror_mode": {
    "name": "ipython",
    "version": 3
   },
   "file_extension": ".py",
   "mimetype": "text/x-python",
   "name": "python",
   "nbconvert_exporter": "python",
   "pygments_lexer": "ipython3",
   "version": "3.11.3"
  }
 },
 "nbformat": 4,
 "nbformat_minor": 5
}
