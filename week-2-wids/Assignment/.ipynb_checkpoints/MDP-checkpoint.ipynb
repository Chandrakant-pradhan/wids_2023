{
 "cells": [
  {
   "cell_type": "code",
   "execution_count": 39,
   "id": "ed18adf2",
   "metadata": {},
   "outputs": [
    {
     "name": "stdout",
     "output_type": "stream",
     "text": [
      "10\n",
      "5\n",
      "0.8\n"
     ]
    }
   ],
   "source": [
    "filename = 'MDPs/mdp-10-5.txt'\n",
    "soln = 'MDPs/sol-mdp-10-5.txt'\n",
    "states = 0\n",
    "actions = 0 \n",
    "gamma = 0\n",
    "state_table = {}\n",
    "utility = []\n",
    "policy = []\n",
    "threshold = 0.001\n",
    "\n",
    "with open(filename, 'r') as file:\n",
    "    for line in file:\n",
    "        line = line.split(' ')\n",
    "        if(line[0] == \"states\"):\n",
    "            states = int(line[1].rstrip(\"\\n\"))\n",
    "            utility = [0] * states\n",
    "            policy = [0] * states\n",
    "        elif (line[0] == \"actions\"):\n",
    "            actions = int(line[1].rstrip(\"\\n\"))\n",
    "            state_table = {i : [{} for _ in range(actions)] for i in range(states*states)}\n",
    "        elif(line[0] == \"gamma\"):\n",
    "            gamma = float(line[2].rstrip(\"\\n\"))\n",
    "        else:\n",
    "            state1 = int(line[1]) \n",
    "            state2 = int(line[3]) \n",
    "            act = int(line[2]) \n",
    "            reward = float(line[4])\n",
    "            prob = float(line[5])\n",
    "            index = state1 * states + state2\n",
    "            state_table[index][act] = [reward , prob]\n",
    "\n",
    "print(states)\n",
    "print(actions)\n",
    "print(gamma)\n",
    "\n",
    "\n"
   ]
  },
  {
   "cell_type": "code",
   "execution_count": 40,
   "id": "b94c39b6",
   "metadata": {},
   "outputs": [],
   "source": [
    "def terminator(threshold , utility , utility_new):\n",
    "    for i in range(len(utility)):\n",
    "        if(abs(utility[i] - utility_new[i]) > threshold):\n",
    "            return False\n",
    "    return True\n",
    "\n",
    "\n",
    "def Q(s , a):\n",
    "    sumi = 0\n",
    "    for i in range(states):\n",
    "        x = state_table[states*s + i][a]\n",
    "        if(len(x) == 0):\n",
    "            continue\n",
    "        \n",
    "        prob = x[1]\n",
    "        reward = x[0]\n",
    "        sumi += prob *(reward + gamma * utility[i])\n",
    "    return sumi\n",
    "        \n",
    "         "
   ]
  },
  {
   "cell_type": "code",
   "execution_count": 41,
   "id": "a3177cf1",
   "metadata": {},
   "outputs": [],
   "source": [
    "# Value Iteration loop\n",
    "while True:\n",
    "    prev = utility[:]\n",
    "    for s in range(states):\n",
    "        maxi = Q(s,0)\n",
    "        best_action = 0\n",
    "        for a in range(actions):\n",
    "            if (Q(s,a) >= maxi):\n",
    "                maxi = Q(s,a)\n",
    "                best_action = a \n",
    "        utility[s] = Q(s, best_action)\n",
    "        policy[s] = best_action\n",
    "\n",
    "    if terminator(threshold, utility, prev):\n",
    "        break\n"
   ]
  },
  {
   "cell_type": "code",
   "execution_count": 42,
   "id": "6de3155d",
   "metadata": {},
   "outputs": [
    {
     "name": "stdout",
     "output_type": "stream",
     "text": [
      "my result       expected result\n",
      "\n",
      "2.233292 3       2.234958 3\n",
      " \n",
      "\n",
      "2.372094 3       2.373612 3\n",
      " \n",
      "\n",
      "2.602713 3       2.604046 3\n",
      " \n",
      "\n",
      "2.646423 1       2.647784 1\n",
      " \n",
      "\n",
      "2.520921 4       2.522231 4\n",
      " \n",
      "\n",
      "2.374002 0       2.375252 0\n",
      " \n",
      "\n",
      "2.683652 2       2.684806 2\n",
      " \n",
      "\n",
      "2.686859 0       2.688310 0\n",
      " \n",
      "\n",
      "2.639695 3       2.640809 3\n",
      " \n",
      "\n",
      "2.571338 1       2.572427 1\n",
      " \n",
      "\n"
     ]
    }
   ],
   "source": [
    "print(f'my result       expected result\\n')\n",
    "with open(soln , 'r') as file:\n",
    "    for i , line in enumerate(file,start=0):\n",
    "        print(f'{utility[i]:.6f} {policy[i]}       {line} \\n')\n",
    "    \n",
    "\n",
    "\n",
    "    \n"
   ]
  },
  {
   "cell_type": "code",
   "execution_count": null,
   "id": "05583fe2",
   "metadata": {},
   "outputs": [],
   "source": []
  }
 ],
 "metadata": {
  "kernelspec": {
   "display_name": "Python 3 (ipykernel)",
   "language": "python",
   "name": "python3"
  },
  "language_info": {
   "codemirror_mode": {
    "name": "ipython",
    "version": 3
   },
   "file_extension": ".py",
   "mimetype": "text/x-python",
   "name": "python",
   "nbconvert_exporter": "python",
   "pygments_lexer": "ipython3",
   "version": "3.11.3"
  }
 },
 "nbformat": 4,
 "nbformat_minor": 5
}
