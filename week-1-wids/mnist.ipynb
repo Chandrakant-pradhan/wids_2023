{
 "cells": [
  {
   "cell_type": "markdown",
   "metadata": {},
   "source": [
    "## MNIST Classification using PyTorch\n",
    "Implement a CNN model in PyTorch to classify MNIST dataset, you can use sklearn library to import the mnist dataset."
   ]
  },
  {
   "cell_type": "code",
   "execution_count": 1,
   "metadata": {},
   "outputs": [],
   "source": [
    "# Import all required libraries\n",
    "import torch\n",
    "import torch.nn as nn\n",
    "import torch.nn.functional as func\n",
    "import torchvision\n",
    "import torchvision.transforms as transforms\n",
    "import torchvision.datasets as dt\n",
    "import matplotlib.pyplot as plt\n",
    "import numpy as np\n",
    "import os\n",
    "curr_dir = os.getcwd()"
   ]
  },
  {
   "cell_type": "code",
   "execution_count": 2,
   "metadata": {},
   "outputs": [
    {
     "name": "stdout",
     "output_type": "stream",
     "text": [
      "Downloading http://yann.lecun.com/exdb/mnist/train-images-idx3-ubyte.gz\n",
      "Downloading http://yann.lecun.com/exdb/mnist/train-images-idx3-ubyte.gz to C:\\Users\\CHANDRAKANT\\OneDrive\\Desktop\\WiDS-Into-the-RLverse\\Week1\\MNIST\\raw\\train-images-idx3-ubyte.gz\n"
     ]
    },
    {
     "name": "stderr",
     "output_type": "stream",
     "text": [
      "100%|███████████████████████████████████████████████████████████████████| 9912422/9912422 [00:02<00:00, 3962575.56it/s]\n"
     ]
    },
    {
     "name": "stdout",
     "output_type": "stream",
     "text": [
      "Extracting C:\\Users\\CHANDRAKANT\\OneDrive\\Desktop\\WiDS-Into-the-RLverse\\Week1\\MNIST\\raw\\train-images-idx3-ubyte.gz to C:\\Users\\CHANDRAKANT\\OneDrive\\Desktop\\WiDS-Into-the-RLverse\\Week1\\MNIST\\raw\n",
      "\n",
      "Downloading http://yann.lecun.com/exdb/mnist/train-labels-idx1-ubyte.gz\n",
      "Downloading http://yann.lecun.com/exdb/mnist/train-labels-idx1-ubyte.gz to C:\\Users\\CHANDRAKANT\\OneDrive\\Desktop\\WiDS-Into-the-RLverse\\Week1\\MNIST\\raw\\train-labels-idx1-ubyte.gz\n"
     ]
    },
    {
     "name": "stderr",
     "output_type": "stream",
     "text": [
      "100%|███████████████████████████████████████████████████████████████████████| 28881/28881 [00:00<00:00, 3603513.02it/s]\n"
     ]
    },
    {
     "name": "stdout",
     "output_type": "stream",
     "text": [
      "Extracting C:\\Users\\CHANDRAKANT\\OneDrive\\Desktop\\WiDS-Into-the-RLverse\\Week1\\MNIST\\raw\\train-labels-idx1-ubyte.gz to C:\\Users\\CHANDRAKANT\\OneDrive\\Desktop\\WiDS-Into-the-RLverse\\Week1\\MNIST\\raw\n",
      "\n",
      "Downloading http://yann.lecun.com/exdb/mnist/t10k-images-idx3-ubyte.gz\n",
      "Downloading http://yann.lecun.com/exdb/mnist/t10k-images-idx3-ubyte.gz to C:\\Users\\CHANDRAKANT\\OneDrive\\Desktop\\WiDS-Into-the-RLverse\\Week1\\MNIST\\raw\\t10k-images-idx3-ubyte.gz\n"
     ]
    },
    {
     "name": "stderr",
     "output_type": "stream",
     "text": [
      "100%|███████████████████████████████████████████████████████████████████| 1648877/1648877 [00:00<00:00, 1932349.22it/s]\n"
     ]
    },
    {
     "name": "stdout",
     "output_type": "stream",
     "text": [
      "Extracting C:\\Users\\CHANDRAKANT\\OneDrive\\Desktop\\WiDS-Into-the-RLverse\\Week1\\MNIST\\raw\\t10k-images-idx3-ubyte.gz to C:\\Users\\CHANDRAKANT\\OneDrive\\Desktop\\WiDS-Into-the-RLverse\\Week1\\MNIST\\raw\n",
      "\n",
      "Downloading http://yann.lecun.com/exdb/mnist/t10k-labels-idx1-ubyte.gz\n",
      "Downloading http://yann.lecun.com/exdb/mnist/t10k-labels-idx1-ubyte.gz to C:\\Users\\CHANDRAKANT\\OneDrive\\Desktop\\WiDS-Into-the-RLverse\\Week1\\MNIST\\raw\\t10k-labels-idx1-ubyte.gz\n"
     ]
    },
    {
     "name": "stderr",
     "output_type": "stream",
     "text": [
      "100%|██████████████████████████████████████████████████████████████████████████████████████| 4542/4542 [00:00<?, ?it/s]"
     ]
    },
    {
     "name": "stdout",
     "output_type": "stream",
     "text": [
      "Extracting C:\\Users\\CHANDRAKANT\\OneDrive\\Desktop\\WiDS-Into-the-RLverse\\Week1\\MNIST\\raw\\t10k-labels-idx1-ubyte.gz to C:\\Users\\CHANDRAKANT\\OneDrive\\Desktop\\WiDS-Into-the-RLverse\\Week1\\MNIST\\raw\n",
      "\n"
     ]
    },
    {
     "name": "stderr",
     "output_type": "stream",
     "text": [
      "\n"
     ]
    }
   ],
   "source": [
    "# Start by scratch :)\n",
    "#importing datasets\n",
    "t = transforms.ToTensor()\n",
    "train = dt.MNIST(curr_dir , train = True , transform = t , download = True )\n",
    "test = dt.MNIST(curr_dir , train = False , transform = t , download = True)"
   ]
  },
  {
   "cell_type": "code",
   "execution_count": 3,
   "metadata": {},
   "outputs": [
    {
     "name": "stdout",
     "output_type": "stream",
     "text": [
      "60000\n",
      "10000\n"
     ]
    }
   ],
   "source": [
    "#size of train and test data\n",
    "print(len(train))\n",
    "print(len(test))"
   ]
  },
  {
   "cell_type": "code",
   "execution_count": 4,
   "metadata": {},
   "outputs": [
    {
     "data": {
      "image/png": "[encoded data removed]",
      "text/plain": [
       "<Figure size 640x480 with 6 Axes>"
      ]
     },
     "metadata": {},
     "output_type": "display_data"
    }
   ],
   "source": [
    "#sample outputs\n",
    "from torch.utils.data import DataLoader\n",
    "train_loader = DataLoader(dataset = train , batch_size = 64 , shuffle = True)\n",
    "test_loader = DataLoader(dataset = test , batch_size = 64 , shuffle = False)\n",
    "\n",
    "ex = iter(train_loader)\n",
    "samples , label = next(ex)\n",
    "\n",
    "for i in range(6):\n",
    "    plt.subplot(2 ,3,i+1)\n",
    "    plt.imshow(samples[i][0] , cmap = \"gray\")\n",
    "plt.show()"
   ]
  },
  {
   "cell_type": "code",
   "execution_count": 5,
   "metadata": {},
   "outputs": [],
   "source": [
    "#hyper-parameters\n",
    "num_epochs = 2\n",
    "batch_size = 100\n",
    "learning_rate = 0.01\n",
    "\n",
    "#making the cnn architecture\n",
    "class  ConvNet(nn.Module):\n",
    "    def __init__(self):\n",
    "        super(ConvNet, self).__init__()\n",
    "        self.conv1 = nn.Conv2d(1 , 3 , 5)\n",
    "        self.pool = nn.MaxPool2d(2,2)\n",
    "        self.conv2 = nn.Conv2d(3 , 6 , 5)\n",
    "        self.fc1 = nn.Linear(6*4*4 , 50)\n",
    "        self.fc2 = nn.Linear(50 , 30)\n",
    "        self.fc3 = nn.Linear(30 , 10)\n",
    "    def forward(self , x):\n",
    "        x = self.pool(func.relu(self.conv1(x)))\n",
    "        x = self.pool(func.relu(self.conv2(x)))\n",
    "        x = x.view(-1 , 6*4*4)\n",
    "        x = func.relu(self.fc1(x))\n",
    "        x = func.relu(self.fc2(x))\n",
    "        x = self.fc3(x)\n",
    "        return x"
   ]
  },
  {
   "cell_type": "code",
   "execution_count": 6,
   "metadata": {},
   "outputs": [
    {
     "name": "stdout",
     "output_type": "stream",
     "text": [
      "epoch 1/2 , step 100/938 , loss = 0.4011\n",
      "epoch 1/2 , step 200/938 , loss = 0.2027\n",
      "epoch 1/2 , step 300/938 , loss = 0.1649\n",
      "epoch 1/2 , step 400/938 , loss = 0.1214\n",
      "epoch 1/2 , step 500/938 , loss = 0.0649\n",
      "epoch 1/2 , step 600/938 , loss = 0.0277\n",
      "epoch 1/2 , step 700/938 , loss = 0.1903\n",
      "epoch 1/2 , step 800/938 , loss = 0.0826\n",
      "epoch 1/2 , step 900/938 , loss = 0.1045\n",
      "epoch 2/2 , step 100/938 , loss = 0.1825\n",
      "epoch 2/2 , step 200/938 , loss = 0.1536\n",
      "epoch 2/2 , step 300/938 , loss = 0.1077\n",
      "epoch 2/2 , step 400/938 , loss = 0.0649\n",
      "epoch 2/2 , step 500/938 , loss = 0.0841\n",
      "epoch 2/2 , step 600/938 , loss = 0.0499\n",
      "epoch 2/2 , step 700/938 , loss = 0.1445\n",
      "epoch 2/2 , step 800/938 , loss = 0.0927\n",
      "epoch 2/2 , step 900/938 , loss = 0.0406\n",
      "accuracy = 96.57\n"
     ]
    }
   ],
   "source": [
    "model = ConvNet()\n",
    "criterion = nn.CrossEntropyLoss()\n",
    "optimizer = torch.optim.Adam(model.parameters() , lr = learning_rate)\n",
    "n_iters = len(train_loader)\n",
    "\n",
    "for epoch in range(num_epochs):\n",
    "    for i , (img , lab) in enumerate(train_loader):\n",
    "        output = model(img)\n",
    "        loss = criterion(output , lab)\n",
    "        loss.backward()\n",
    "        optimizer.step()\n",
    "        optimizer.zero_grad()\n",
    "        if (i+1)%100 == 0 :\n",
    "            print(f'epoch {epoch+1}/{num_epochs} , step {i+1}/{n_iters} , loss = {loss.item():.4f}')\n",
    "            \n",
    "with torch.no_grad():\n",
    "    n_correct = 0\n",
    "    n_samples = 0\n",
    "        \n",
    "    for i , (img , lab) in enumerate(test_loader):\n",
    "        output = model(img)\n",
    "        _, predictions = torch.max(output , 1)\n",
    "        n_samples += lab.shape[0]\n",
    "        n_correct += (predictions == lab).sum().item()\n",
    "        \n",
    "\n",
    "acc = 100.0 * n_correct / n_samples\n",
    "print(f'accuracy = {acc}')       \n",
    "        "
   ]
  },
  {
   "cell_type": "code",
   "execution_count": 7,
   "metadata": {},
   "outputs": [
    {
     "data": {
      "image/png": "[encoded data removed]",
      "text/plain": [
       "<Figure size 1000x800 with 20 Axes>"
      ]
     },
     "metadata": {},
     "output_type": "display_data"
    }
   ],
   "source": [
    "no_img = 20\n",
    "fig , axes = plt.subplots( 4 , 5 , figsize = (10,8))\n",
    "k = 259\n",
    "for i in range(k , k+no_img):\n",
    "    img , label = test[i]\n",
    "    \n",
    "    labels = label\n",
    "    output = model(img)\n",
    "    _, predictions = torch.max(output , 1)\n",
    "    \n",
    "    row = (i-k)//5\n",
    "    col = (i-k)%5\n",
    "    axes[row , col].imshow(img[0] , cmap = \"gray\")\n",
    "    axes[row , col].set_title(f\"c :{label} , p :{predictions.item()}\")\n",
    "    axes[row , col].axis('off')\n",
    "\n",
    "plt.show()"
   ]
  },
  {
   "cell_type": "code",
   "execution_count": null,
   "metadata": {},
   "outputs": [],
   "source": []
  }
 ],
 "metadata": {
  "kernelspec": {
   "display_name": "Python 3 (ipykernel)",
   "language": "python",
   "name": "python3"
  },
  "language_info": {
   "codemirror_mode": {
    "name": "ipython",
    "version": 3
   },
   "file_extension": ".py",
   "mimetype": "text/x-python",
   "name": "python",
   "nbconvert_exporter": "python",
   "pygments_lexer": "ipython3",
   "version": "3.11.3"
  }
 },
 "nbformat": 4,
 "nbformat_minor": 2
}
